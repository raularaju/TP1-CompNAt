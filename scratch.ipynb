{
 "cells": [
  {
   "cell_type": "code",
   "execution_count": 14,
   "metadata": {},
   "outputs": [],
   "source": [
    "import pandas as pd\n",
    "from sklearn.metrics.cluster import v_measure_score\n",
    "import random\n",
    "from sklearn.cluster import AgglomerativeClustering\n",
    "import numpy as np\n",
    "from sklearn.preprocessing import StandardScaler"
   ]
  },
  {
   "cell_type": "code",
   "execution_count": null,
   "metadata": {},
   "outputs": [],
   "source": []
  },
  {
   "cell_type": "code",
   "execution_count": 15,
   "metadata": {},
   "outputs": [
    {
     "data": {
      "text/plain": [
       "' X_train = StandardScaler().fit_transform(X_train)\\nX_test = StandardScaler().fit_transform(X_test) '"
      ]
     },
     "execution_count": 15,
     "metadata": {},
     "output_type": "execute_result"
    }
   ],
   "source": [
    "dataset_name = 'breast_cancer_coimbra'\n",
    "dataset_test_path = f'./data/{dataset_name}-train.csv'\n",
    "dataset_train_path = f'./data/{dataset_name}-test.csv'\n",
    "df_train = pd.read_csv(dataset_train_path)\n",
    "df_test = pd.read_csv(dataset_test_path)\n",
    "\n",
    "X_train = df_train.drop(columns=['Classification']).to_numpy()\n",
    "y_train = df_train['Classification'].to_numpy()\n",
    "X_test = df_test.drop(columns=['Classification']).to_numpy()\n",
    "y_test = df_test['Classification'].to_numpy()\n",
    "n_labels = len(np.unique(y_train))\n",
    "\n",
    "\"\"\" X_train = StandardScaler().fit_transform(X_train)\n",
    "X_test = StandardScaler().fit_transform(X_test) \"\"\"\n"
   ]
  },
  {
   "cell_type": "markdown",
   "metadata": {},
   "source": []
  },
  {
   "cell_type": "code",
   "execution_count": 16,
   "metadata": {},
   "outputs": [],
   "source": [
    "metrics_arr = ['euclidean', 'manhattan', 'cosine', 'l1', 'l2', 'cityblock', 'braycurtis', 'canberra', 'chebyshev', 'correlation', 'dice', 'hamming', 'jaccard', 'mahalanobis', 'matching', 'minkowski', 'rogerstanimoto', 'russellrao', 'seuclidean', 'sokalmichener', 'sokalsneath', 'sqeuclidean', 'yule']"
   ]
  },
  {
   "cell_type": "code",
   "execution_count": 17,
   "metadata": {},
   "outputs": [
    {
     "name": "stdout",
     "output_type": "stream",
     "text": [
      "euclidean: 0.12562537992157202\n",
      "manhattan: 0.12562537992157202\n",
      "cosine: 0.06876466356517148\n",
      "l1: 0.12562537992157202\n",
      "l2: 0.12562537992157202\n",
      "cityblock: 0.12562537992157202\n",
      "braycurtis: 0.12562537992157202\n",
      "canberra: 0.2308851707288921\n",
      "chebyshev: 0.12562537992157202\n",
      "correlation: 0.06876466356517148\n",
      "dice: 0.06876466356517148\n",
      "hamming: 0.2313598919830775\n",
      "jaccard: 0.2313598919830775\n",
      "mahalanobis: 0.06876466356517148\n",
      "matching: 0.2313598919830775\n",
      "minkowski: 0.12562537992157202\n",
      "rogerstanimoto: 0.06876466356517148\n",
      "russellrao: 0.06876466356517148\n",
      "seuclidean: 0.06876466356517148\n",
      "sokalmichener: 0.06876466356517148\n",
      "sokalsneath: 0.06876466356517148\n",
      "sqeuclidean: 0.12562537992157202\n",
      "yule: 0.06876466356517148\n"
     ]
    }
   ],
   "source": [
    "for metric in metrics_arr:\n",
    "    model = AgglomerativeClustering(n_clusters=n_labels,linkage='average', metric=metric)\n",
    "    model.fit(X_train)\n",
    "    y_pred = model.labels_\n",
    "    v_measure = v_measure_score(y_train, y_pred)\n",
    "    print(f'{metric}: {v_measure}')"
   ]
  }
 ],
 "metadata": {
  "kernelspec": {
   "display_name": "IA_TP2",
   "language": "python",
   "name": "python3"
  },
  "language_info": {
   "codemirror_mode": {
    "name": "ipython",
    "version": 3
   },
   "file_extension": ".py",
   "mimetype": "text/x-python",
   "name": "python",
   "nbconvert_exporter": "python",
   "pygments_lexer": "ipython3",
   "version": "3.12.4"
  }
 },
 "nbformat": 4,
 "nbformat_minor": 2
}
