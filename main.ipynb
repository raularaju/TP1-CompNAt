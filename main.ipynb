{
 "cells": [
  {
   "cell_type": "code",
   "execution_count": 32,
   "metadata": {},
   "outputs": [],
   "source": [
    "import pandas as pd\n",
    "from sklearn.metrics.cluster import v_measure_score\n",
    "import random\n",
    "from sklearn.cluster import AgglomerativeClustering\n",
    "import numpy as np"
   ]
  },
  {
   "cell_type": "code",
   "execution_count": 33,
   "metadata": {},
   "outputs": [],
   "source": [
    "random.seed(42)"
   ]
  },
  {
   "cell_type": "code",
   "execution_count": 34,
   "metadata": {},
   "outputs": [],
   "source": [
    "dataset_name = 'breast_cancer_coimbra'\n",
    "dataset_test_path = f'./data/{dataset_name}-train.csv'\n",
    "dataset_train_path = f'./data/{dataset_name}-test.csv'\n",
    "df_train = pd.read_csv(dataset_train_path)\n",
    "df_test = pd.read_csv(dataset_test_path)\n",
    "\n",
    "X_train = df_train.drop(columns=['Classification']).to_numpy()\n",
    "y_train = df_train['Classification'].to_numpy()\n",
    "X_test = df_test.drop(columns=['Classification']).to_numpy()\n",
    "y_test = df_test['Classification'].to_numpy()"
   ]
  },
  {
   "cell_type": "code",
   "execution_count": 35,
   "metadata": {},
   "outputs": [],
   "source": [
    "MIN_CONST = 1\n",
    "MAX_CONST = 5\n",
    "NAO_TERMINAL_F = [lambda x, a, b : pow(x, a/b), lambda x, a, b : x * (a/b)]\n",
    "NUM_F = len(NAO_TERMINAL_F)\n",
    "NAO_TERMINAL_A = [1,2,3,4,5]\n",
    "NUM_A = len(NAO_TERMINAL_A)\n",
    "class Individuo():\n",
    "    def __init__(self,  n_features, genotipo = None, genotipo_estruturado = None):\n",
    "        self._n_features = n_features\n",
    "        self._genotipo = genotipo\n",
    "        if(genotipo_estruturado):\n",
    "            self._genotipo_estruturado = genotipo_estruturado\n",
    "            return\n",
    "        self._genotipo_estruturado = []\n",
    "        for i in range(0, len(genotipo), 3):\n",
    "            num1, num2, num3 = genotipo[i:i+3]\n",
    "            self._genotipo_estruturado.append([[num1 % NUM_F], [num2 % NUM_A, num3 % NUM_A]])\n",
    "    \n",
    "    def get_fenotipo(self):\n",
    "        fenotipo = []\n",
    "        for i in range(self._n_features):\n",
    "            f = NAO_TERMINAL_F[self._genotipo_estruturado[i][0][0]]\n",
    "            a = NAO_TERMINAL_A[self._genotipo_estruturado[i][1][0]]\n",
    "            b = NAO_TERMINAL_A[self._genotipo_estruturado[i][1][1]]\n",
    "            fenotipo.append(lambda x : f(x, a, b))\n",
    "        self._fenotipo = fenotipo\n",
    "        return fenotipo\n",
    "    \n",
    "    def fazer_mutacao(self):\n",
    "        random_index = random.randint(0, self._n_features - 1)\n",
    "        self._genotipo_estruturado[random_index][0][0] = random.randint(0, NUM_F - 1)\n",
    "        self._genotipo_estruturado[random_index][1][0] = random.randint(0, NUM_A - 1)\n",
    "        self._genotipo_estruturado[random_index][1][1] = random.randint(0, NUM_A - 1)\n",
    "    \n",
    "    def calcular_distancia(self, xi, xj):\n",
    "        diff = abs(xi - xj)\n",
    "        sum = 0\n",
    "        for i in range(self._n_features):\n",
    "            sum += self.get_fenotipo()[i](diff[i])\n",
    "        return sum\n",
    "\n",
    "\n",
    "    def fitness(self, X, y):\n",
    "        n_instancias = len(X)\n",
    "        n_labels = len(set(y))\n",
    "        # Criar np matriz de n_instancias x n_instancias\n",
    "        matriz_distancias = np.zeros((n_instancias, n_instancias))\n",
    "        for i in range(n_instancias):\n",
    "            for j in range(n_instancias):\n",
    "                distancia = self.calcular_distancia(X[i], X[j])\n",
    "                matriz_distancias[i][j] = matriz_distancias[j][i] = distancia\n",
    "        clustering = AgglomerativeClustering(\n",
    "        n_clusters=n_labels,   \n",
    "        metric='precomputed', \n",
    "        linkage='complete' \n",
    "        )\n",
    "        labels = clustering.fit_predict(matriz_distancias)\n",
    "        return v_measure_score(y, labels) "
   ]
  },
  {
   "cell_type": "code",
   "execution_count": 36,
   "metadata": {},
   "outputs": [
    {
     "name": "stdout",
     "output_type": "stream",
     "text": [
      "163\n"
     ]
    }
   ],
   "source": [
    "bd = bytes(random.getrandbits(8) for _ in range(3 * 9))\n",
    "print(bd[0])"
   ]
  },
  {
   "cell_type": "code",
   "execution_count": 37,
   "metadata": {},
   "outputs": [
    {
     "name": "stdout",
     "output_type": "stream",
     "text": [
      "2.5198420997897464\n"
     ]
    },
    {
     "data": {
      "text/plain": [
       "2.5198420997897464"
      ]
     },
     "execution_count": 37,
     "metadata": {},
     "output_type": "execute_result"
    }
   ],
   "source": [
    "binary_data = bytes(random.getrandbits(8) for _ in range(3 * 9))\n",
    "i = Individuo(9, genotipo = binary_data)\n",
    "print(i.get_fenotipo()[0](2))\n",
    "i.fazer_mutacao()\n",
    "i.get_fenotipo()[0](2)"
   ]
  },
  {
   "cell_type": "code",
   "execution_count": 38,
   "metadata": {},
   "outputs": [],
   "source": [
    "class Populacao():\n",
    "    def __init__(self, n_pop, pc, pm, tam_torneio, X, y, eh_elitismo = False):\n",
    "        self._populacao = []\n",
    "        self._n_pop = n_pop\n",
    "        self._pc = pc\n",
    "        self._pm = pm\n",
    "        self._tam_torneio = tam_torneio\n",
    "        self._eh_elitismo = eh_elitismo\n",
    "        self._X = X\n",
    "        self._y = y\n",
    "        self._n_features = X.shape[1]\n",
    "        self.gerar_pop_inicial()\n",
    "    \n",
    "    def gerar_pop_inicial(self):\n",
    "        for i in range(self._n_pop):\n",
    "            genotipo = bytes(random.getrandbits(8) for _ in range(3 * self._n_features))\n",
    "            ind = Individuo(n_features=self._n_features, genotipo=genotipo)\n",
    "            self._populacao.append((ind, ind.fitness(X_train, y_train)))\n",
    "    \n",
    "    def cruzamento(self, pai1, pai2):\n",
    "        range_pai1 = random.randint(1, self._n_features - 1)\n",
    "        genotipo_estruturado_filho = []\n",
    "        for i in range(self._n_features):\n",
    "            if(i <= range_pai1):\n",
    "                genotipo_estruturado_filho.append(pai1._genotipo_estruturado[i])\n",
    "            else:\n",
    "                genotipo_estruturado_filho.append(pai2._genotipo_estruturado[i])\n",
    "        return Individuo(n_features = self._n_features, genotipo_estruturado = genotipo_estruturado_filho)\n",
    "\n",
    "\n",
    "    def escolher_pais(self):\n",
    "        pai1 = self._populacao[random.randint(0, self._n_pop - 1)][0]\n",
    "        while True:\n",
    "            pai2 = self._populacao[random.randint(0, self._n_pop - 1)][0]\n",
    "            if pai1 != pai2:\n",
    "                break\n",
    "        return pai1, pai2\n",
    "\n",
    "    def gerar_filhos(self):\n",
    "        n_filhos = 0\n",
    "        while(n_filhos < self._n_pop):\n",
    "            pai1, pai2 = self.escolher_pais()\n",
    "            if(random.random() < self._pc):\n",
    "                filho = self.cruzamento(pai1, pai2)\n",
    "            else:\n",
    "                filho = pai1\n",
    "            if(random.random() < self._pm):\n",
    "                filho.fazer_mutacao()\n",
    "            self._populacao.append((filho, filho.fitness(X_train, y_train)))\n",
    "            n_filhos += 1\n",
    "\n",
    "        \n",
    "    def fazer_selecao(self):\n",
    "        nova_pop = []\n",
    "        self._populacao.sort(key = lambda x : x[1], reverse = True)\n",
    "        if(self._eh_elitismo):\n",
    "            nova_pop.append(self._populacao[0])\n",
    "        while(len(nova_pop) < self._n_pop):\n",
    "            torneio = []\n",
    "            while(len(torneio) < self._tam_torneio):\n",
    "                indice_aleatorio = random.randint(0, self._n_pop - 1)\n",
    "                if(self._populacao[indice_aleatorio] not in torneio):\n",
    "                    torneio.append(self._populacao[indice_aleatorio])\n",
    "            torneio.sort(key = lambda x : x[1], reverse = True)\n",
    "            nova_pop.append(torneio[0])\n",
    "        self._populacao = nova_pop\n",
    "        self._populacao.sort(key = lambda x : x[1], reverse = True)\n",
    "    \n",
    "    def get_fitness_media(self):\n",
    "        return sum([x[1] for x in self._populacao]) / self._n_pop\n",
    "    \n",
    "    def get_melhor_individuo(self):\n",
    "        return self._populacao[0]\n",
    "\n",
    "    "
   ]
  },
  {
   "cell_type": "code",
   "execution_count": 39,
   "metadata": {},
   "outputs": [
    {
     "name": "stdout",
     "output_type": "stream",
     "text": [
      "Geração 0 - Fitness médio: 0.13730404769080573 - Melhor fitness: 0.17871023341808764\n",
      "Geração 1 - Fitness médio: 0.17605599074326161 - Melhor fitness: 0.17871023341808764\n",
      "Geração 2 - Fitness médio: 0.17871023341808734 - Melhor fitness: 0.17871023341808764\n",
      "Geração 3 - Fitness médio: 0.17871023341808734 - Melhor fitness: 0.17871023341808764\n",
      "Geração 4 - Fitness médio: 0.17871023341808734 - Melhor fitness: 0.17871023341808764\n",
      "Geração 5 - Fitness médio: 0.17871023341808734 - Melhor fitness: 0.17871023341808764\n",
      "Geração 6 - Fitness médio: 0.17871023341808734 - Melhor fitness: 0.17871023341808764\n",
      "Geração 7 - Fitness médio: 0.17871023341808734 - Melhor fitness: 0.17871023341808764\n",
      "Geração 8 - Fitness médio: 0.17871023341808734 - Melhor fitness: 0.17871023341808764\n",
      "Geração 9 - Fitness médio: 0.17871023341808734 - Melhor fitness: 0.17871023341808764\n",
      "Geração 10 - Fitness médio: 0.17871023341808734 - Melhor fitness: 0.17871023341808764\n",
      "Geração 11 - Fitness médio: 0.17871023341808734 - Melhor fitness: 0.17871023341808764\n",
      "Geração 12 - Fitness médio: 0.17871023341808734 - Melhor fitness: 0.17871023341808764\n",
      "Geração 13 - Fitness médio: 0.17871023341808734 - Melhor fitness: 0.17871023341808764\n",
      "Geração 14 - Fitness médio: 0.17871023341808734 - Melhor fitness: 0.17871023341808764\n",
      "Geração 15 - Fitness médio: 0.17871023341808734 - Melhor fitness: 0.17871023341808764\n",
      "Geração 16 - Fitness médio: 0.17871023341808734 - Melhor fitness: 0.17871023341808764\n",
      "Geração 17 - Fitness médio: 0.17871023341808734 - Melhor fitness: 0.17871023341808764\n",
      "Geração 18 - Fitness médio: 0.17871023341808734 - Melhor fitness: 0.17871023341808764\n",
      "Geração 19 - Fitness médio: 0.17871023341808734 - Melhor fitness: 0.17871023341808764\n",
      "Geração 20 - Fitness médio: 0.17871023341808734 - Melhor fitness: 0.17871023341808764\n",
      "Geração 21 - Fitness médio: 0.17871023341808734 - Melhor fitness: 0.17871023341808764\n",
      "Geração 22 - Fitness médio: 0.17871023341808734 - Melhor fitness: 0.17871023341808764\n",
      "Geração 23 - Fitness médio: 0.17871023341808734 - Melhor fitness: 0.17871023341808764\n",
      "Geração 24 - Fitness médio: 0.17871023341808734 - Melhor fitness: 0.17871023341808764\n",
      "Geração 25 - Fitness médio: 0.17871023341808734 - Melhor fitness: 0.17871023341808764\n",
      "Geração 26 - Fitness médio: 0.17871023341808734 - Melhor fitness: 0.17871023341808764\n",
      "Geração 27 - Fitness médio: 0.17871023341808734 - Melhor fitness: 0.17871023341808764\n",
      "Geração 28 - Fitness médio: 0.17871023341808734 - Melhor fitness: 0.17871023341808764\n",
      "Geração 29 - Fitness médio: 0.17871023341808734 - Melhor fitness: 0.17871023341808764\n",
      "Geração 30 - Fitness médio: 0.17871023341808734 - Melhor fitness: 0.17871023341808764\n",
      "Geração 31 - Fitness médio: 0.17871023341808734 - Melhor fitness: 0.17871023341808764\n",
      "Geração 32 - Fitness médio: 0.17871023341808734 - Melhor fitness: 0.17871023341808764\n",
      "Geração 33 - Fitness médio: 0.17871023341808734 - Melhor fitness: 0.17871023341808764\n",
      "Geração 34 - Fitness médio: 0.17871023341808734 - Melhor fitness: 0.17871023341808764\n",
      "Geração 35 - Fitness médio: 0.17871023341808734 - Melhor fitness: 0.17871023341808764\n",
      "Geração 36 - Fitness médio: 0.17871023341808734 - Melhor fitness: 0.17871023341808764\n",
      "Geração 37 - Fitness médio: 0.17871023341808734 - Melhor fitness: 0.17871023341808764\n",
      "Geração 38 - Fitness médio: 0.17871023341808734 - Melhor fitness: 0.17871023341808764\n",
      "Geração 39 - Fitness médio: 0.17871023341808734 - Melhor fitness: 0.17871023341808764\n",
      "Geração 40 - Fitness médio: 0.17871023341808734 - Melhor fitness: 0.17871023341808764\n",
      "Geração 41 - Fitness médio: 0.17871023341808734 - Melhor fitness: 0.17871023341808764\n",
      "Geração 42 - Fitness médio: 0.17871023341808734 - Melhor fitness: 0.17871023341808764\n",
      "Geração 43 - Fitness médio: 0.17871023341808734 - Melhor fitness: 0.17871023341808764\n",
      "Geração 44 - Fitness médio: 0.17871023341808734 - Melhor fitness: 0.17871023341808764\n",
      "Geração 45 - Fitness médio: 0.17871023341808734 - Melhor fitness: 0.17871023341808764\n",
      "Geração 46 - Fitness médio: 0.17871023341808734 - Melhor fitness: 0.17871023341808764\n",
      "Geração 47 - Fitness médio: 0.17871023341808734 - Melhor fitness: 0.17871023341808764\n",
      "Geração 48 - Fitness médio: 0.17871023341808734 - Melhor fitness: 0.17871023341808764\n",
      "Geração 49 - Fitness médio: 0.17871023341808734 - Melhor fitness: 0.17871023341808764\n"
     ]
    }
   ],
   "source": [
    "N_GERACOES = 50\n",
    "N_POP = 100\n",
    "PC = 0.9\n",
    "PM = 0.05\n",
    "TAM_TORNEIO = 5\n",
    "EH_ELITISMO = False\n",
    "POP = Populacao(N_POP, PC, PM, TAM_TORNEIO, X_train, y_train, eh_elitismo = EH_ELITISMO)\n",
    "for i in range(N_GERACOES):\n",
    "    POP.gerar_filhos()\n",
    "    POP.fazer_selecao()\n",
    "    print(f'Geração {i} - Fitness médio: {POP.get_fitness_media()} - Melhor fitness: {POP.get_melhor_individuo()[1]}')\n",
    "\n"
   ]
  }
 ],
 "metadata": {
  "kernelspec": {
   "display_name": "IA_TP2",
   "language": "python",
   "name": "python3"
  },
  "language_info": {
   "codemirror_mode": {
    "name": "ipython",
    "version": 3
   },
   "file_extension": ".py",
   "mimetype": "text/x-python",
   "name": "python",
   "nbconvert_exporter": "python",
   "pygments_lexer": "ipython3",
   "version": "3.12.4"
  }
 },
 "nbformat": 4,
 "nbformat_minor": 2
}
