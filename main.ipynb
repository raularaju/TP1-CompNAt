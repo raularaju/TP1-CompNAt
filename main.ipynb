{
 "cells": [
  {
   "cell_type": "code",
   "execution_count": null,
   "metadata": {},
   "outputs": [],
   "source": [
    "import pandas as pd\n",
    "from sklearn.metrics.cluster import v_measure_score\n",
    "import random\n",
    "from sklearn.cluster import AgglomerativeClustering\n",
    "import numpy as np\n",
    "import operator\n",
    "import math\n",
    "import matplotlib.pyplot as plt\n",
    "import numpy as np\n",
    "import threading\n",
    "from sklearn.preprocessing import StandardScaler\n",
    "import time\n",
    "from concurrent.futures import ProcessPoolExecutor\n",
    "from multiprocessing import Pool, Manager"
   ]
  },
  {
   "cell_type": "code",
   "execution_count": 3,
   "metadata": {},
   "outputs": [],
   "source": [
    "random.seed(42)"
   ]
  },
  {
   "cell_type": "code",
   "execution_count": 4,
   "metadata": {},
   "outputs": [],
   "source": [
    "def get_data(dataset_name, normalize=True):\n",
    "    dataset_test_path = f'./data/{dataset_name}-train.csv'\n",
    "    dataset_train_path = f'./data/{dataset_name}-test.csv'\n",
    "    if dataset_name == 'breast_cancer_coimbra':\n",
    "        df_train = pd.read_csv(dataset_train_path)\n",
    "        df_test = pd.read_csv(dataset_test_path)\n",
    "\n",
    "        X_train = df_train.drop(columns=['Classification']).to_numpy()\n",
    "        y_train = df_train['Classification'].to_numpy()\n",
    "        X_test = df_test.drop(columns=['Classification']).to_numpy()\n",
    "        y_test = df_test['Classification'].to_numpy()\n",
    "        \n",
    "    elif dataset_name == 'wineRed':\n",
    "        df_train = pd.read_csv(dataset_train_path, header=None)\n",
    "        df_test = pd.read_csv(dataset_test_path, header=None)\n",
    "\n",
    "        X_train = df_train.drop(df_train.columns[-1], axis=1).to_numpy()\n",
    "        y_train = df_train[df_train.columns[-1]].to_numpy()\n",
    "        X_test = df_test.drop(df_test.columns[-1], axis=1).to_numpy()\n",
    "        y_test = df_test[df_test.columns[-1]].to_numpy()\n",
    "    \n",
    "    if not normalize:\n",
    "        return X_train, y_train, X_test, y_test\n",
    "    scaler = StandardScaler()\n",
    "    X_train = scaler.fit_transform(X_train)\n",
    "    X_test = scaler.transform(X_test)\n",
    "    return X_train, y_train, X_test, y_test \n"
   ]
  },
  {
   "cell_type": "code",
   "execution_count": 5,
   "metadata": {},
   "outputs": [],
   "source": [
    "#dataset_name = 'breast_cancer_coimbra'\n",
    "dataset_name = 'wineRed'\n",
    "X_train, y_train, X_test, y_test = get_data(dataset_name)\n",
    "\n",
    "n_features = X_train.shape[1]"
   ]
  },
  {
   "cell_type": "code",
   "execution_count": 6,
   "metadata": {},
   "outputs": [
    {
     "name": "stdout",
     "output_type": "stream",
     "text": [
      "1.3862943611198906\n"
     ]
    }
   ],
   "source": [
    "import math\n",
    "x = [1, 2, 3, 4, 5]\n",
    "result = eval(\"math.log(x[3])\", {\"math\": math, \"x\": x})\n",
    "print(result)  # Output: 1.4142135623730951"
   ]
  },
  {
   "cell_type": "code",
   "execution_count": 7,
   "metadata": {},
   "outputs": [
    {
     "data": {
      "text/plain": [
       "1.0"
      ]
     },
     "execution_count": 7,
     "metadata": {},
     "output_type": "execute_result"
    }
   ],
   "source": [
    "math.fabs(-1)"
   ]
  },
  {
   "cell_type": "code",
   "execution_count": 8,
   "metadata": {},
   "outputs": [],
   "source": [
    "class SafeMath:\n",
    "    @staticmethod\n",
    "    def divide(a, b):\n",
    "        return a / 0.0000000001 if b == 0 else a / b\n",
    "    @staticmethod\n",
    "    def log(x):\n",
    "        if x == 0:\n",
    "            x += 0.0000000001\n",
    "        return math.log(abs(x)) \n",
    "    @staticmethod\n",
    "    def sqrt(x):\n",
    "        return math.sqrt(abs(x))\n",
    "    @staticmethod\n",
    "    def pow2(x):\n",
    "        return x * x\n",
    "    @staticmethod\n",
    "    def inv(x):\n",
    "        if(x == 0):\n",
    "            x += 0.0000000001\n",
    "        return 1 / x\n",
    "    "
   ]
  },
  {
   "cell_type": "code",
   "execution_count": 9,
   "metadata": {},
   "outputs": [
    {
     "data": {
      "text/plain": [
       "{'<S>': [['<E>']],\n",
       " '<OP>': [['+'], ['-'], ['*']],\n",
       " '<E>': [['<E_0>', '<OP>', '<E_0>'], ['<POP>', '(', '<E_0>', ')'], ['<VAR>']],\n",
       " '<POP>': [['SafeMath.inv'], ['<CONST>', '*']],\n",
       " '<CONST>': [['1'], ['2'], ['3'], ['4'], ['5'], ['6'], ['7'], ['8'], ['9']],\n",
       " '<VAR>': [['dx[0]'],\n",
       "  ['dx[1]'],\n",
       "  ['dx[2]'],\n",
       "  ['dx[3]'],\n",
       "  ['dx[4]'],\n",
       "  ['dx[5]'],\n",
       "  ['dx[6]'],\n",
       "  ['dx[7]'],\n",
       "  ['dx[8]'],\n",
       "  ['dx[9]'],\n",
       "  ['dx[10]']],\n",
       " '<E_0>': [['<E_1>', '<OP>', '<E_1>'],\n",
       "  ['<POP>', '(', '<E_1>', ')'],\n",
       "  ['<VAR>']],\n",
       " '<E_1>': [['<VAR>', '<OP>', '<VAR>'],\n",
       "  ['<POP>', '(', '<VAR>', ')'],\n",
       "  ['<VAR>']]}"
      ]
     },
     "execution_count": 9,
     "metadata": {},
     "output_type": "execute_result"
    }
   ],
   "source": [
    "RANGE_CONST = 10\n",
    "NIVEIS_RECURSAO = 2\n",
    "terminais = [\"+\", \"-\", \"*\", \"SafeMath.inv\", \"(\", \")\"] \\\n",
    "            + [str(i) for i in range(1, RANGE_CONST)] \\\n",
    "            + [f\"dx[{i}]\" for i in range(n_features)]\n",
    "naoterminais = [\"<S>\", \"<E>\", \"<OP>\", \"<POP>\", \"<VAR>\", \"<CONST>\"] + [f\"<E_{i}>\" for i in range(NIVEIS_RECURSAO)]\n",
    "gramatica = {\n",
    "    \"<S>\" : [[\"<E>\"]],\n",
    "    \"<OP>\" : [[\"+\"], [\"-\"], [\"*\"]],\n",
    "    \"<E>\" : [[\"<E_0>\", \"<OP>\", \"<E_0>\"], [\"<POP>\", \"(\", \"<E_0>\", \")\"], [\"<VAR>\"]],\n",
    "    \"<POP>\" : [[\"SafeMath.inv\"], [\"<CONST>\", \"*\"]],\n",
    "    \"<CONST>\" : [[str(i)] for i in range(1, RANGE_CONST)],\n",
    "    \"<VAR>\" : [[f\"dx[{i}]\"]  for i in range(n_features)]\n",
    "}\n",
    "#    \n",
    "for i in range(NIVEIS_RECURSAO - 1):\n",
    "    gramatica[f'<E_{i}>'] = [[f\"<E_{i+1}>\", \"<OP>\", f\"<E_{i+1}>\"], [\"<POP>\", \"(\", f\"<E_{i+1}>\", \")\"], \\\n",
    "                             [\"<VAR>\"]]\n",
    "gramatica[f'<E_{NIVEIS_RECURSAO-1}>'] = [[\"<VAR>\", \"<OP>\", \"<VAR>\"], \\\n",
    "                                       [\"<POP>\", \"(\", \"<VAR>\", \")\"], \\\n",
    "                                       [\"<VAR>\"]]\n",
    "gramatica"
   ]
  },
  {
   "cell_type": "code",
   "execution_count": 10,
   "metadata": {},
   "outputs": [],
   "source": [
    "class NoArvore:\n",
    "    def __init__(self, chave : str):\n",
    "        self.chave = chave\n",
    "        self.filhos = []\n",
    "    \n",
    "    def adicionarFilhos(self, filhos: list['NoArvore']):\n",
    "        self.filhos = filhos\n",
    "\n",
    "class Arvore:\n",
    "    def __init__(self, raiz : NoArvore):\n",
    "        self.raiz = raiz\n",
    "    def getExpressao(self):\n",
    "        folhas = []\n",
    "        self._getExpressaoRecursivo(self.raiz, folhas)\n",
    "        return ''.join(folhas)\n",
    "\n",
    "    def _getExpressaoRecursivo(self, no: NoArvore, folhas: list):\n",
    "        if no is None:\n",
    "            return \n",
    "        if not no.filhos:\n",
    "            folhas.append(no.chave)\n",
    "        else:\n",
    "            for filho in no.filhos:\n",
    "                self._getExpressaoRecursivo(filho, folhas)"
   ]
  },
  {
   "cell_type": "code",
   "execution_count": 11,
   "metadata": {},
   "outputs": [],
   "source": [
    "ids_expansao = {}\n",
    "genotipo = {}\n",
    "for nao_terminal in gramatica.keys():\n",
    "    ids_expansao[nao_terminal] = 0\n",
    "    genotipo[nao_terminal] = [0 for _ in range(10)]\n",
    "genotipo[\"<S>\"] = [0]\n",
    "genotipo[\"<E>\"] = [0]\n",
    "genotipo[\"<E_0>\"] = [2, 0]\n",
    "genotipo[\"<E_1>\"] = [2, 2]\n",
    "genotipo[\"<OP>\"] = [0, 2]\n",
    "genotipo[\"<VAR>\"] = [0, 1, 2]\n"
   ]
  },
  {
   "cell_type": "code",
   "execution_count": 12,
   "metadata": {},
   "outputs": [
    {
     "name": "stdout",
     "output_type": "stream",
     "text": [
      "['dx[0]', '+', 'dx[1]', '*', 'dx[2]']\n",
      "dx[0]+dx[1]*dx[2]\n"
     ]
    }
   ],
   "source": [
    "raiz = NoArvore(\"<S>\")\n",
    "arvore = Arvore(raiz)\n",
    "fronteira = [\"<S>\"]\n",
    "ind_no_a_expandir = 0\n",
    "\n",
    "while ind_no_a_expandir < len(fronteira):\n",
    "    if fronteira[ind_no_a_expandir] in terminais:    \n",
    "        ind_no_a_expandir += 1\n",
    "        continue\n",
    "    nao_terminal = fronteira[ind_no_a_expandir]\n",
    "    nao_terminal = nao_terminal\n",
    "    ind_producao = genotipo[nao_terminal][ids_expansao[nao_terminal]]\n",
    "    ids_expansao[nao_terminal] += 1\n",
    "    producao = gramatica[nao_terminal][ind_producao]\n",
    "    fronteira.pop(ind_no_a_expandir)\n",
    "    fronteira = fronteira[:ind_no_a_expandir] + producao + fronteira[ind_no_a_expandir:]\n",
    "\n",
    "print(fronteira)\n",
    "print(''.join(fronteira))\n"
   ]
  },
  {
   "cell_type": "code",
   "execution_count": 13,
   "metadata": {},
   "outputs": [],
   "source": [
    "class Individuo():\n",
    "    def __init__(self, genotipo = None):\n",
    "        if(genotipo is not None):\n",
    "            self.genotipo = genotipo\n",
    "            self.fenotipo = self.calcular_fenotipo()\n",
    "            return\n",
    "        \n",
    "        self.genotipo = {}\n",
    "        self.genotipo[\"<S>\"] = [0]\n",
    "        self.genotipo[\"<E>\"] = [random.randint(0, len(gramatica[\"<E>\"]) - 1)]\n",
    "        for i in range(NIVEIS_RECURSAO):\n",
    "            self.genotipo[f\"<E_{i}>\"] = [random.randint(0, len(gramatica[f\"<E_{i}>\"]) - 1) for _ in range(2**(i+1))]\n",
    "        self.genotipo[\"<OP>\"] = [random.randint(0, len(gramatica[\"<OP>\"]) - 1) for _ in range(2**(NIVEIS_RECURSAO + 1))]\n",
    "        self.genotipo[\"<POP>\"] = [random.randint(0, len(gramatica[\"<POP>\"]) - 1) for _ in range(2**(NIVEIS_RECURSAO + 1))]\n",
    "        self.genotipo[\"<VAR>\"] = [random.randint(0, len(gramatica[\"<VAR>\"]) - 1) for _ in range(2**(NIVEIS_RECURSAO + 1))]\n",
    "        self.genotipo[\"<CONST>\"] = [random.randint(0, len(gramatica[\"<CONST>\"]) - 1) for _ in range(2**(NIVEIS_RECURSAO + 1))]\n",
    "        \n",
    "        self.fenotipo = self.calcular_fenotipo()\n",
    "\n",
    "    def calcular_fenotipo(self):\n",
    "        ids_expansao = {}\n",
    "        for nao_terminal in gramatica.keys():\n",
    "            ids_expansao[nao_terminal] = 0\n",
    "        fronteira = [\"<S>\"]\n",
    "        ind_no_a_expandir = 0\n",
    "\n",
    "        while ind_no_a_expandir < len(fronteira):\n",
    "            if fronteira[ind_no_a_expandir] in terminais:    \n",
    "                ind_no_a_expandir += 1\n",
    "                continue\n",
    "            nao_terminal = fronteira[ind_no_a_expandir]\n",
    "            if(ids_expansao[nao_terminal] >= len(self.genotipo[nao_terminal])):\n",
    "                print(f\"Erro : {nao_terminal} - {ids_expansao[nao_terminal]} - len: {len(self.genotipo[nao_terminal])}\")                \n",
    "            ind_producao = self.genotipo[nao_terminal][ids_expansao[nao_terminal]]\n",
    "            ids_expansao[nao_terminal] += 1\n",
    "            producao = gramatica[nao_terminal][ind_producao]\n",
    "            fronteira.pop(ind_no_a_expandir)\n",
    "            fronteira = fronteira[:ind_no_a_expandir] + producao + fronteira[ind_no_a_expandir:]\n",
    "        return ''.join(fronteira)\n",
    "    \n",
    "    def fazer_mutacao(self):\n",
    "        terminal_aleatorio = random.choice(list(gramatica.keys()))\n",
    "        lista = self.genotipo[terminal_aleatorio]\n",
    "        indice_aleatorio = random.randint(0, len(lista) - 1)\n",
    "        producao_aleatoria = random.randint(0, len(gramatica[terminal_aleatorio]) - 1)\n",
    "        self.genotipo[terminal_aleatorio][indice_aleatorio] = producao_aleatoria\n",
    "        self.fenotipo = self.calcular_fenotipo()\n",
    "\n",
    "    def calcular_distancia(self, xi, xj):\n",
    "        dx = abs(xi - xj)\n",
    "        return eval(self.fenotipo, {\"math\": math, \"dx\": dx, \"SafeMath\": SafeMath})\n",
    "    \n",
    "\n",
    "    def fitness(self, X, y):\n",
    "        n_instancias = len(X)\n",
    "        n_labels = len(set(y)) \n",
    "        matriz_distancias = np.zeros((n_instancias, n_instancias))\n",
    "        for i in range(n_instancias):\n",
    "            for j in range(i, n_instancias):\n",
    "                distancia = self.calcular_distancia(X[i], X[j])\n",
    "                matriz_distancias[i][j] = matriz_distancias[j][i] = distancia\n",
    "        clustering = AgglomerativeClustering(\n",
    "        n_clusters=n_labels,   \n",
    "        metric='precomputed', \n",
    "        linkage='complete' \n",
    "        )\n",
    "        labels = clustering.fit_predict(matriz_distancias)\n",
    "        return v_measure_score(y, labels) "
   ]
  },
  {
   "cell_type": "code",
   "execution_count": 14,
   "metadata": {},
   "outputs": [
    {
     "name": "stdout",
     "output_type": "stream",
     "text": [
      "dx[10]\n"
     ]
    }
   ],
   "source": [
    "ind = Individuo()\n",
    "dx = [1, 2, 3, 4, 5, 6]\n",
    "print(ind.fenotipo)"
   ]
  },
  {
   "cell_type": "code",
   "execution_count": null,
   "metadata": {},
   "outputs": [],
   "source": [
    "from multiprocessing import Pool\n",
    "\n",
    "def f(x):\n",
    "    return x*x\n",
    "\n",
    "if __name__ == '__main__':\n",
    "    with Pool(5) as p:\n",
    "        print(p.map(f, [1, 2, 3]))"
   ]
  },
  {
   "cell_type": "code",
   "execution_count": null,
   "metadata": {},
   "outputs": [],
   "source": [
    "class Populacao():\n",
    "    def __init__(self, n_pop, pc, pm, tam_torneio, X, y, eh_elitismo=False):\n",
    "        self._populacao: list[Individuo] = [Individuo() for _ in range(n_pop)]\n",
    "        self._n_pop = n_pop\n",
    "        self._pc = pc\n",
    "        self._pm = pm\n",
    "        self._tam_torneio = tam_torneio\n",
    "        self._eh_elitismo = eh_elitismo\n",
    "        self._X = X\n",
    "        self._y = y\n",
    "        self._n_filhos_melhores_que_pais = 0\n",
    "        self._n_processos = 5\n",
    "        self._todas_fitness = [0.0 for _ in range(n_pop)]  # Usar Manager para listas compartilhadas\n",
    "        self.gerar_pop_inicial()\n",
    "\n",
    "    def avaliar_fitness_individuo_chuncks(self, i):    \n",
    "        fitness = self._populacao[i].fitness(self._X, self._y)\n",
    "        print(f\"Individuo {i} - Fitness: {fitness}\")\n",
    "        self._todas_fitness[i] = fitness\n",
    "\n",
    "    def gerar_pop_inicial(self):\n",
    "        tempo_inicio = time.time()\n",
    "\n",
    "        with ProcessPoolExecutor(max_workers=self._n_processos) as executor:\n",
    "            executor.map(self.avaliar_fitness_individuo_chuncks, range(self._n_pop))\n",
    "\n",
    "        tempo_fim = time.time()\n",
    "        print(f\"Tempo de execução: {tempo_fim - tempo_inicio} segundos\")\n",
    "    \n",
    "    def escolher_pais(self):\n",
    "        pai1 = self._populacao[random.randint(0, self._n_pop - 1)]\n",
    "        while True:\n",
    "            pai2 = self._populacao[random.randint(0, self._n_pop - 1)]\n",
    "            if pai1 != pai2:\n",
    "                break\n",
    "        return pai1, pai2\n",
    "\n",
    "    def cruzamento(self, pai1, pai2):\n",
    "        genotipo_filho = {}\n",
    "        for nao_terminal in gramatica.keys():\n",
    "            if(random.random() < 0.5):\n",
    "                genotipo_filho[nao_terminal] = pai1.genotipo[nao_terminal]\n",
    "            else:\n",
    "                genotipo_filho[nao_terminal] = pai2.genotipo[nao_terminal]\n",
    "        return Individuo(genotipo_filho)\n",
    "\n",
    "    def gerar_filho(self, pai1, pai2):\n",
    "        if random.random() < self._pc:\n",
    "            filho = self.cruzamento(pai1[0], pai2[0])\n",
    "            fitness_filho = filho.fitness(self._X, self._y)\n",
    "            melhor_que_pais = fitness_filho > ((pai1[1] + pai2[1]) / 2)\n",
    "        else:\n",
    "            filho = pai1[0]\n",
    "            melhor_que_pais = False\n",
    "\n",
    "        if random.random() < self._pm:\n",
    "            filho.fazer_mutacao()\n",
    "\n",
    "        self._populacao.append((filho, filho.fitness(self._X, self._y)))\n",
    "        if melhor_que_pais:\n",
    "            self._n_filhos_melhores_que_pais += 1\n",
    "\n",
    "    def gerar_filhos_chuncks(self, args):\n",
    "        start, end = args\n",
    "        for i in range(start, end):\n",
    "            pai1, pai2 = self.escolher_pais()\n",
    "            self.gerar_filho(pai1, pai2)\n",
    "        \n",
    "\n",
    "    def gerar_filhos(self):\n",
    "        tempo_inicio = time.time()\n",
    "        individuos = [Individuo() for _ in range(self._n_pop)]\n",
    "\n",
    "        chunk_size = self._n_pop // self._n_processos\n",
    "        with ProcessPoolExecutor(max_workers=self._n_processos) as executor:\n",
    "            tasks = []\n",
    "            for i in range(0, self._n_pop, chunk_size):\n",
    "                start = i\n",
    "                end = min(i + chunk_size, self._n_pop)\n",
    "                tasks.append((individuos, start, end, self._todas_fitness))\n",
    "            \n",
    "            executor.map(self.avaliar_fitness_individuo_chuncks, tasks)\n",
    "\n",
    "        tempo_fim = time.time()\n",
    "        print(f\"Tempo de execução: {tempo_fim - tempo_inicio} segundos\")\n",
    "\n",
    "        print(f\"Filhos melhores que pais: {self._n_filhos_melhores_que_pais}\")\n",
    "        \n",
    "    def fazer_selecao(self):\n",
    "        nova_pop = []\n",
    "        if(self._eh_elitismo):\n",
    "            best_fitness = self._populacao[0][1]\n",
    "            ind_best = 0\n",
    "            for i in range(len(self._populacao)):\n",
    "                if(self._populacao[i][1] > best_fitness):\n",
    "                    best_fitness = self._populacao[i][1]\n",
    "                    ind_best = i\n",
    "            nova_pop.append(self._populacao[ind_best])\n",
    "            self._populacao.pop(ind_best)\n",
    "        while(len(nova_pop) < self._n_pop):\n",
    "            torneio : list[int] = []\n",
    "            while(len(torneio) < self._tam_torneio):\n",
    "                indice_aleatorio = random.randint(0, len(self._populacao) - 1)\n",
    "                if(indice_aleatorio not in torneio):\n",
    "                    torneio.append(indice_aleatorio)\n",
    "            ind_vencedor = 0\n",
    "            for i in range(1, len(torneio)):\n",
    "                if(self._populacao[torneio[i]][1] > self._populacao[torneio[ind_vencedor]][1]):\n",
    "                    ind_vencedor = i  \n",
    "            nova_pop.append(self._populacao[ind_vencedor])\n",
    "            self._populacao.pop(ind_vencedor)\n",
    "        self._populacao = nova_pop\n",
    "        if(self._eh_elitismo and (self._populacao[0][1] != nova_pop[0][1])):\n",
    "            print(f\"Erro elitismo: {self._populacao[0][1]} != {nova_pop[0][1]}\")\n",
    "    \n",
    "\n",
    "    def get_fitness_media(self):\n",
    "        return sum([x[1] for x in self._populacao]) / self._n_pop\n",
    "    \n",
    "    def get_melhor_individuo(self) -> tuple[Individuo, int]:\n",
    "        ind_melhor = 0\n",
    "        for i, (_, fitness) in enumerate(self._populacao):\n",
    "            if fitness > self._populacao[ind_melhor][1]:\n",
    "                ind_melhor = i\n",
    "        return self._populacao[ind_melhor]\n",
    "    \n",
    "    def get_pior_individuo(self) -> tuple[Individuo, int]:\n",
    "        ind_pior = 0\n",
    "        for i, (_, fitness) in enumerate(self._populacao):\n",
    "            if fitness < self._populacao[ind_pior][1]:\n",
    "                ind_pior = i\n",
    "        return self._populacao[ind_pior]\n",
    "    \n",
    "    def get_distribuicao_pop(self):\n",
    "        distribuicao = {}\n",
    "        for (ind, fitness) in self._populacao:\n",
    "            if ind.fenotipo not in distribuicao:\n",
    "                distribuicao[ind.fenotipo] = 1\n",
    "            else:\n",
    "                distribuicao[ind.fenotipo] += 1\n",
    "        return distribuicao\n",
    "\n",
    "    def get_tam_pop(self):\n",
    "        return len(self._populacao)\n",
    "\n",
    "    "
   ]
  },
  {
   "cell_type": "code",
   "execution_count": null,
   "metadata": {},
   "outputs": [
    {
     "name": "stdout",
     "output_type": "stream",
     "text": [
      "Tempo de execução: 0.41871118545532227 segundos\n"
     ]
    },
    {
     "data": {
      "text/plain": [
       "' for i in range(N_GERACOES):\\n    pop.gerar_filhos()\\n    pop.fazer_selecao()\\n    print(f\\'Geração {i} - Fitness médio: {pop.get_fitness_media()}\\')\\n    print(f\\'Melhor indivíduo: {pop.get_melhor_individuo()[0].fenotipo} - Fitness: {pop.get_melhor_individuo()[1]}\\')\\n    print(f\"tamanho pop: {pop.get_tam_pop()}\")\\n    print(f\"Tamanho indivíduos diferentes: {len(pop.get_distribuicao_pop())}\")\\n    print(\"-\"*20)\\n    arr_piores_fitness.append(pop.get_pior_individuo()[1])\\n    arr_melhores_fitness.append(pop.get_melhor_individuo()[1])\\n    arr_fitness_media.append(pop.get_fitness_media())\\n    arr_num_individuos_diferentes.append(len(pop.get_distribuicao_pop())) '"
      ]
     },
     "execution_count": 286,
     "metadata": {},
     "output_type": "execute_result"
    }
   ],
   "source": [
    "N_GERACOES = 500\n",
    "N_POP = 100\n",
    "PC = 0.9\n",
    "PM = 0.05\n",
    "TAM_TORNEIO = 2\n",
    "EH_ELITISMO = True\n",
    "N_RUNS = 1\n",
    "arr_piores_fitness = []\n",
    "arr_melhores_fitness = []\n",
    "arr_fitness_media = []\n",
    "arr_num_individuos_diferentes = []\n",
    "#for _ in range(N_RUNS):\n",
    "pop = Populacao(N_POP, PC, PM, TAM_TORNEIO, X_train, y_train, eh_elitismo = EH_ELITISMO)\n",
    "for i in range(N_GERACOES):\n",
    "    pop.gerar_filhos()\n",
    "    pop.fazer_selecao()\n",
    "    print(f'Geração {i} - Fitness médio: {pop.get_fitness_media()}')\n",
    "    print(f'Melhor indivíduo: {pop.get_melhor_individuo()[0].fenotipo} - Fitness: {pop.get_melhor_individuo()[1]}')\n",
    "    print(f\"tamanho pop: {pop.get_tam_pop()}\")\n",
    "    print(f\"Tamanho indivíduos diferentes: {len(pop.get_distribuicao_pop())}\")\n",
    "    print(\"-\"*20)\n",
    "    arr_piores_fitness.append(pop.get_pior_individuo()[1])\n",
    "    arr_melhores_fitness.append(pop.get_melhor_individuo()[1])\n",
    "    arr_fitness_media.append(pop.get_fitness_media())\n",
    "    arr_num_individuos_diferentes.append(len(pop.get_distribuicao_pop()))"
   ]
  },
  {
   "cell_type": "code",
   "execution_count": null,
   "metadata": {},
   "outputs": [
    {
     "name": "stdout",
     "output_type": "stream",
     "text": [
      "0.039775303630655116\n"
     ]
    }
   ],
   "source": [
    "print(pop._populacao[i].fitness(X_train, y_train))"
   ]
  },
  {
   "cell_type": "code",
   "execution_count": null,
   "metadata": {},
   "outputs": [
    {
     "name": "stdout",
     "output_type": "stream",
     "text": [
      "[0.0, 0.0, 0.0, 0.0, 0.0, 0.0, 0.0, 0.0, 0.0, 0.0, 0.0, 0.0, 0.0, 0.0, 0.0, 0.0, 0.0, 0.0, 0.0, 0.0, 0.0, 0.0, 0.0, 0.0, 0.0, 0.0, 0.0, 0.0, 0.0, 0.0, 0.0, 0.0, 0.0, 0.0, 0.0, 0.0, 0.0, 0.0, 0.0, 0.0, 0.0, 0.0, 0.0, 0.0, 0.0, 0.0, 0.0, 0.0, 0.0, 0.0, 0.0, 0.0, 0.0, 0.0, 0.0, 0.0, 0.0, 0.0, 0.0, 0.0, 0.0, 0.0, 0.0, 0.0, 0.0, 0.0, 0.0, 0.0, 0.0, 0.0, 0.0, 0.0, 0.0, 0.0, 0.0, 0.0, 0.0, 0.0, 0.0, 0.0, 0.0, 0.0, 0.0, 0.0, 0.0, 0.0, 0.0, 0.0, 0.0, 0.0, 0.0, 0.0, 0.0, 0.0, 0.0, 0.0, 0.0, 0.0, 0.0, 0.0]\n"
     ]
    }
   ],
   "source": [
    "print(pop._todas_fitness)"
   ]
  },
  {
   "cell_type": "code",
   "execution_count": null,
   "metadata": {},
   "outputs": [
    {
     "name": "stdout",
     "output_type": "stream",
     "text": [
      "Piores Fitness - Média: nan +- nan\n",
      "Melhores Fitness - Média: nan +- nan\n",
      "Fitness Média - Média: nan +- nan\n",
      "Num Individuos Diferentes - Média: nan +- nan\n"
     ]
    },
    {
     "name": "stderr",
     "output_type": "stream",
     "text": [
      "c:\\Projetos\\faculdade\\CompNat\\TP1-CompNAt\\.venv\\Lib\\site-packages\\numpy\\_core\\fromnumeric.py:3904: RuntimeWarning: Mean of empty slice.\n",
      "  return _methods._mean(a, axis=axis, dtype=dtype,\n",
      "c:\\Projetos\\faculdade\\CompNat\\TP1-CompNAt\\.venv\\Lib\\site-packages\\numpy\\_core\\_methods.py:147: RuntimeWarning: invalid value encountered in scalar divide\n",
      "  ret = ret.dtype.type(ret / rcount)\n",
      "c:\\Projetos\\faculdade\\CompNat\\TP1-CompNAt\\.venv\\Lib\\site-packages\\numpy\\_core\\_methods.py:227: RuntimeWarning: Degrees of freedom <= 0 for slice\n",
      "  ret = _var(a, axis=axis, dtype=dtype, out=out, ddof=ddof,\n",
      "c:\\Projetos\\faculdade\\CompNat\\TP1-CompNAt\\.venv\\Lib\\site-packages\\numpy\\_core\\_methods.py:184: RuntimeWarning: invalid value encountered in divide\n",
      "  arrmean = um.true_divide(arrmean, div, out=arrmean,\n",
      "c:\\Projetos\\faculdade\\CompNat\\TP1-CompNAt\\.venv\\Lib\\site-packages\\numpy\\_core\\_methods.py:219: RuntimeWarning: invalid value encountered in scalar divide\n",
      "  ret = ret.dtype.type(ret / rcount)\n"
     ]
    }
   ],
   "source": [
    "def print_status(array, nome):\n",
    "    media = np.mean(array)\n",
    "    std = np.std(array)\n",
    "    print(f\"{nome} - Média: {media:.3f} +- {std:.3f}\")\n",
    "\n",
    "# Calculating and printing statistics for each array\n",
    "print_status(arr_piores_fitness, \"Piores Fitness\")\n",
    "print_status(arr_melhores_fitness, \"Melhores Fitness\")\n",
    "print_status(arr_fitness_media, \"Fitness Média\")\n",
    "print_status(arr_num_individuos_diferentes, \"Num Individuos Diferentes\")"
   ]
  },
  {
   "cell_type": "code",
   "execution_count": null,
   "metadata": {},
   "outputs": [
    {
     "data": {
      "image/png": "[encoded data removed]",
      "text/plain": [
       "<Figure size 640x480 with 1 Axes>"
      ]
     },
     "metadata": {},
     "output_type": "display_data"
    }
   ],
   "source": [
    "# Plotting each array\n",
    "plt.plot(arr_piores_fitness, label='Piores Fitness', color='red')\n",
    "plt.plot(arr_melhores_fitness, label='Melhores Fitness', color='green')\n",
    "plt.plot(arr_fitness_media, label='Fitness Média', color='blue')\n",
    "\n",
    "# Adding labels and title\n",
    "plt.xlabel('Index')\n",
    "plt.ylabel('Fitness Value')\n",
    "plt.title('Fitness Comparison')\n",
    "\n",
    "# Adding a legend to differentiate the lines\n",
    "plt.legend()\n",
    "\n",
    "# Display the plot\n",
    "plt.show()"
   ]
  },
  {
   "cell_type": "code",
   "execution_count": null,
   "metadata": {},
   "outputs": [
    {
     "ename": "TypeError",
     "evalue": "'Individuo' object is not subscriptable",
     "output_type": "error",
     "traceback": [
      "\u001b[1;31m---------------------------------------------------------------------------\u001b[0m",
      "\u001b[1;31mTypeError\u001b[0m                                 Traceback (most recent call last)",
      "Cell \u001b[1;32mIn[291], line 2\u001b[0m\n\u001b[0;32m      1\u001b[0m \u001b[38;5;28;01mfor\u001b[39;00m i \u001b[38;5;129;01min\u001b[39;00m \u001b[38;5;28mrange\u001b[39m(pop\u001b[38;5;241m.\u001b[39mget_tam_pop()):\n\u001b[1;32m----> 2\u001b[0m     ind \u001b[38;5;241m=\u001b[39m \u001b[43mpop\u001b[49m\u001b[38;5;241;43m.\u001b[39;49m\u001b[43m_populacao\u001b[49m\u001b[43m[\u001b[49m\u001b[43mi\u001b[49m\u001b[43m]\u001b[49m\u001b[43m[\u001b[49m\u001b[38;5;241;43m0\u001b[39;49m\u001b[43m]\u001b[49m\n\u001b[0;32m      3\u001b[0m     v_score_test \u001b[38;5;241m=\u001b[39m ind\u001b[38;5;241m.\u001b[39mfitness(X_test, y_test)\n\u001b[0;32m      4\u001b[0m     v_score_train \u001b[38;5;241m=\u001b[39m ind\u001b[38;5;241m.\u001b[39mfitness(X_train, y_train)\n",
      "\u001b[1;31mTypeError\u001b[0m: 'Individuo' object is not subscriptable"
     ]
    }
   ],
   "source": [
    "for i in range(pop.get_tam_pop()):\n",
    "    ind = pop._populacao[i][0]\n",
    "    v_score_test = ind.fitness(X_test, y_test)\n",
    "    v_score_train = ind.fitness(X_train, y_train)\n",
    "    print(f\"{ind.fenotipo} - diff fitness: {v_score_train -v_score_test:.3f}\")\n",
    "    \"\"\" print(f\"V-Score Train: {v_score_train}\")\n",
    "    print(f\"V-Score Test: {v_score_test}\") \"\"\"\n",
    "    "
   ]
  },
  {
   "cell_type": "code",
   "execution_count": null,
   "metadata": {},
   "outputs": [
    {
     "ename": "IndexError",
     "evalue": "list index out of range",
     "output_type": "error",
     "traceback": [
      "\u001b[1;31m---------------------------------------------------------------------------\u001b[0m",
      "\u001b[1;31mIndexError\u001b[0m                                Traceback (most recent call last)",
      "Cell \u001b[1;32mIn[153], line 1\u001b[0m\n\u001b[1;32m----> 1\u001b[0m \u001b[43mpop\u001b[49m\u001b[38;5;241;43m.\u001b[39;49m\u001b[43mget_melhor_individuo\u001b[49m\u001b[43m(\u001b[49m\u001b[43m)\u001b[49m[\u001b[38;5;241m0\u001b[39m]\u001b[38;5;241m.\u001b[39mfenotipo\n",
      "Cell \u001b[1;32mIn[147], line 127\u001b[0m, in \u001b[0;36mPopulacao.get_melhor_individuo\u001b[1;34m(self)\u001b[0m\n\u001b[0;32m    125\u001b[0m     \u001b[38;5;28;01mif\u001b[39;00m fitness \u001b[38;5;241m>\u001b[39m \u001b[38;5;28mself\u001b[39m\u001b[38;5;241m.\u001b[39m_populacao[ind_melhor][\u001b[38;5;241m1\u001b[39m]:\n\u001b[0;32m    126\u001b[0m         ind_melhor \u001b[38;5;241m=\u001b[39m i\n\u001b[1;32m--> 127\u001b[0m \u001b[38;5;28;01mreturn\u001b[39;00m \u001b[38;5;28;43mself\u001b[39;49m\u001b[38;5;241;43m.\u001b[39;49m\u001b[43m_populacao\u001b[49m\u001b[43m[\u001b[49m\u001b[43mind_melhor\u001b[49m\u001b[43m]\u001b[49m\n",
      "\u001b[1;31mIndexError\u001b[0m: list index out of range"
     ]
    }
   ],
   "source": [
    "pop.get_melhor_individuo()[0].fenotipo"
   ]
  }
 ],
 "metadata": {
  "kernelspec": {
   "display_name": ".venv",
   "language": "python",
   "name": "python3"
  },
  "language_info": {
   "codemirror_mode": {
    "name": "ipython",
    "version": 3
   },
   "file_extension": ".py",
   "mimetype": "text/x-python",
   "name": "python",
   "nbconvert_exporter": "python",
   "pygments_lexer": "ipython3",
   "version": "3.12.7"
  }
 },
 "nbformat": 4,
 "nbformat_minor": 2
}
